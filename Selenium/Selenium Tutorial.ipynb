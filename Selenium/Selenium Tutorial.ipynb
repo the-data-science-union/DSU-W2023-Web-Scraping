{
 "cells": [
  {
   "cell_type": "markdown",
   "id": "84dca8dd",
   "metadata": {},
   "source": [
    "# Selenium Tutorial"
   ]
  },
  {
   "cell_type": "markdown",
   "id": "774623e9",
   "metadata": {},
   "source": [
    "**By: Tristan Dewing**"
   ]
  },
  {
   "cell_type": "markdown",
   "id": "da55dec5",
   "metadata": {},
   "source": [
    "Selenium is a Python package that is used primarily for website testing and automation, though its capabilities also make it a useful web scraping tool. Using Selenium, you can simulate a user’s experience and interact with live websites, performing actions such as clicking buttons, selecting options from dropdown menus, typing entries into search bars, scrolling, and more. \n",
    "\n",
    "These actions make Selenium a good choice to scrape dynamic websites, or interactive sites where the content or data displayed is dependent on user actions and other factors such as time and day or user demographics. It is also a very flexible tool capable of scraping a wide variety of websites using many different browsers and platforms (i.e. Chrome, Firefox, Safari). \n",
    "\n",
    "However, because Selenium is primarily a website automation tool, using it for web scraping requires some background knowledge of HTML code and web development. In addition, Selenium is slower compared to other Python web scraping packages such as BeautifulSoup and Scrapy. The best use case for Selenium is scraping data from a dynamic website that requires clicking buttons or other interactive elements to access the data."
   ]
  },
  {
   "cell_type": "markdown",
   "id": "c1ed3140",
   "metadata": {},
   "source": [
    "## Getting Started"
   ]
  },
  {
   "cell_type": "markdown",
   "id": "13236f83",
   "metadata": {},
   "source": [
    "Setting up Selenium is easy but will take a little bit of time. Because Selenium is used to automate websites through a web browser, it will need access to your web browser. To do this, you will first need to install a Selenium \"driver\" specific to your browser of choice. For this example, we will use Google Chrome."
   ]
  },
  {
   "cell_type": "markdown",
   "id": "95db022e",
   "metadata": {},
   "source": [
    "### 1. Download ChromeDriver: https://chromedriver.chromium.org/downloads\n",
    "\n",
    "If you are using the ChromeDriver, you will need to install the correct version according to your operating system and the current version of your Chrome. To check your Chrome version, click the three dots to the far right of the search bar in your Chrome window and select Help -> About Google Chrome. From there, you can select the proper version of ChromeDriver according to your Chrome version and operating system (i.e. mac64)\n",
    "\n",
    "### 2. In terminal or in IDE: pip install selenium\n",
    "\n",
    "Once you have installed your ChromeDriver or other driver for your browser, you will then need to install the Selenium package using the command `pip install selenium` in your terminal or IDE."
   ]
  },
  {
   "cell_type": "code",
   "execution_count": 1,
   "id": "df9d575f",
   "metadata": {},
   "outputs": [
    {
     "name": "stdout",
     "output_type": "stream",
     "text": [
      "Requirement already satisfied: selenium in ./opt/anaconda3/lib/python3.8/site-packages (3.141.0)\r\n",
      "Requirement already satisfied: urllib3 in ./opt/anaconda3/lib/python3.8/site-packages (from selenium) (1.26.6)\r\n"
     ]
    }
   ],
   "source": [
    "!pip install selenium"
   ]
  },
  {
   "cell_type": "markdown",
   "id": "ee326334",
   "metadata": {},
   "source": [
    "## Importing Libraries and Creating the Driver"
   ]
  },
  {
   "cell_type": "markdown",
   "id": "97a070a2",
   "metadata": {},
   "source": [
    "For this tutorial, we will be using the website https://www.adamchoi.co.uk/teamgoals/detailed, a database for soccer matches. To start off, you will need to create a driver object that will open a ChromeDriver window, which is an automated version of a normal Google Chrome window that Selenium is in control of. You will also need to create objects for the link you are trying to access as well as the path to the ChromeDriver on your computer. Run the code below to test the functionality of your ChromeDriver:"
   ]
  },
  {
   "cell_type": "code",
   "execution_count": 210,
   "id": "a044c1a9",
   "metadata": {},
   "outputs": [
    {
     "data": {
      "text/plain": [
       "'Team Goals'"
      ]
     },
     "execution_count": 210,
     "metadata": {},
     "output_type": "execute_result"
    }
   ],
   "source": [
    "from selenium import webdriver\n",
    "\n",
    "website = \"https://www.adamchoi.co.uk/teamgoals/detailed\" # insert link to website you are scraping\n",
    "\n",
    "path = \"/Users/tristan/chromedriver\" # insert path to ChromeDriver on your computer\n",
    "\n",
    "driver = webdriver.Chrome(path) # create webdriver\n",
    "\n",
    "driver.get(website) # opens ChromeDriver window\n",
    "\n",
    "# driver.quit() # closes ChromeDriver window"
   ]
  },
  {
   "cell_type": "markdown",
   "id": "f3c21cfe",
   "metadata": {},
   "source": [
    "Once you run this code chunk, if everything is working properly, a ChromeDriver window should open with the message *“Chrome is being controlled by automated test software”* near the top. That means that Selenium is actively controlling a ChromeDriver window.\n",
    "\n",
    "To end the ChromeDriver session, you can either close out of the window itself or you can use the `driver.quit()` command, which will automatically end Selenium's control over the window and close it out.\n",
    "\n",
    "The sequence in the code chunk above will be constant for any web scraping actions you perform using Selenium."
   ]
  },
  {
   "cell_type": "markdown",
   "id": "0c3369e7",
   "metadata": {},
   "source": [
    "## Selenium Methods"
   ]
  },
  {
   "cell_type": "markdown",
   "id": "3e2a24de",
   "metadata": {},
   "source": [
    "Selenium has a variety of methods that are used for testing websites, but for the purposes of web scraping, the most important ones you will need to know are `find_element()` and `find_elements()`. Similar to regular expression functions, these two methods find specific parts of a website based on the type of HTML element you specify. The first method `find_element()` finds the first instance that matches the element you specify while the plural version `find_elements()` finds all instances that match the element.\n",
    "\n",
    "When you want to perform an action such as clicking a button or scraping text from a website, you will want to find a specific HTML element that is unique to the button, text blob, or whatever the object of interest is. This unique element is what you will have Selenium \"find\" within the website's nested HTML structure so that you can interact with or scrape specific parts of the website. There are some common HTML elements that you can directly access such as ID, Name, and Class. However, if the object you are trying to access is not defined under one of these common categories, you can also access it indirectly using an XPath expression, which indexes a specific attribute that occurs after a more common item such as a class or ID.\n",
    "\n",
    "Aside from `find_element()` and `find_elements()`, you will also need to import the `By` class from the `selenium.webdriver.common.by` module to use attributes that reference specific HTML elements. The By class and corresponding attribute are typically the first argument in the `find_element()` or `find_elements()` method, specifying what type of HTML element you are trying to access. The second argument is the actual text of the element you are looking for, be it the ID, Class, or XPath. Below is a table with each attribute of By for each corresponding type of HTML element along with what each element typically looks like when it is embedded within HTML code and how you would apply its specific By attribute to Selenium code."
   ]
  },
  {
   "cell_type": "markdown",
   "id": "206b5cfa",
   "metadata": {},
   "source": [
    "| Type                 | Description                                                                    | HTML Example                | Selenium Code                           |\n",
    "|:----------------------|:--------------------------------------------------------------------------------|:-----------------------------|:--------------------------------------------|\n",
    "| By.ID                | Searches for elements based on their HTML ID                                   | \\<div id=\"myID\">             | find_element(By.ID, \"myID\")                |\n",
    "| By.NAME              | Searches for elements based on their name attribute                            | \\<input name=\"myNAME\">       | find_element(By.NAME, \"myNAME\")            |\n",
    "| By.XPATH             | Searches for elements based on an XPath expression                             | \\<span>My \\<a>Link\\</a>\\</span> | find_element(By.XPATH, \"//span/a\")         |\n",
    "| By.LINK_TEXT         | Searches for anchor elements based on a match of their text content            | \\<a>My Link\\</a>              | find_element(By.LINK_TEXT, \"My Link\")      |\n",
    "| By.PARTIAL_LINK_TEXT | Searches for anchor elements based on a sub-string match of their text content | \\<a>My Link\\</a>              | find_element(By.PARTIAL_LINK_TEXT, \"Link\") |\n",
    "| By.TAG_NAME          | Searches for elements based on their tag name                                  | \\<h1>                        | find_element(By.TAG_NAME, \"h1\")            |\n",
    "| By.CLASS_NAME        | Searches for elements based on their HTML classes                              | \\<div class=\"myCLASS\">       | find_element(By.CLASSNAME, \"myCLASS\")      |\n",
    "| By.CSS_SELECTOR      | Searches for elements based on a CSS selector                                  | \\<span>My\\<a>Link\\</a>\\</span> | find_element(By.CSS_SELECTOR, \"span > a\")  |"
   ]
  },
  {
   "cell_type": "markdown",
   "id": "97464936",
   "metadata": {},
   "source": [
    "## Clicking on a Button with Selenium:"
   ]
  },
  {
   "cell_type": "markdown",
   "id": "8902fd41",
   "metadata": {},
   "source": [
    "Now we will begin our process of scraping the website.\n",
    "\n",
    "The first action we will do using Selenium is clicking a button. On the website, we want to click the \"All matches\" button to reduce the two split tables on the website to one table. To access the button, we will need to \"inspect\" the website to find the HTML element that references the button. \n",
    "\n",
    "If we right click the button and inspect it, we can observe that there is not a clear class name or ID in the HTML code that references the button, but instead an attribute hidden in the middle of a larger body of HTML code: `analytics-event=\"All matches\"`. Because there is no By attribute that can directly access the element, this is an indication that in order to access the button, we will need to reference it indirectly using an XPath. \n",
    "\n",
    "Typically, XPaths take on the following format: `//tagName[@AttributeName=“Value”]`. Here, we access a specific attribute such as the button by using the name of the element at the start of the line (i.e. \"label\") and then access the button (\"Value\") using the attribute name that references the button.\n",
    "\n",
    "Therefore, the XPath we will use to reference the \"All matches\" button is  `'//label[@analytics-event=\"All matches\"]'`, which you can check by typing in the XPath into the Inspect element search bar to see if it highlights the correct button.\n",
    "\n",
    "Now to command Selenium to access the button and click it, we will import `By` from the `selenium.webdriver.common.by` module and then create an object that references the button using the following command: `driver.find_element(By.XPATH, '//label[@analytics-event=\"All matches\"]') `. Lastly, to click the button, we use the `.click()` method on the object we have just created."
   ]
  },
  {
   "cell_type": "code",
   "execution_count": 206,
   "id": "f1fe4ac9",
   "metadata": {},
   "outputs": [],
   "source": [
    "from selenium import webdriver\n",
    "from selenium.webdriver.common.by import By\n",
    "\n",
    "website = \"https://www.adamchoi.co.uk/teamgoals/detailed\" # insert link to website you are scraping\n",
    "path = \"/Users/tristan/chromedriver\" # insert path to ChromeDriver\n",
    "driver = webdriver.Chrome(path) # create webdriver\n",
    "driver.get(website) # opens ChromeDriver window\n",
    "\n",
    "all_matches_button = driver.find_element(By.XPATH, '//label[@analytics-event=\"All matches\"]') \n",
    "# locates a button in selenium\n",
    "\n",
    "all_matches_button.click() # clicks the button\n",
    "\n",
    "driver.quit() # closes ChromeDriver window"
   ]
  },
  {
   "cell_type": "markdown",
   "id": "ea61e840",
   "metadata": {},
   "source": [
    "If everything works properly, Selenium should open a ChromeDriver window and then automatically click the \"All matches\" button, followed by the window closing automatically."
   ]
  },
  {
   "cell_type": "markdown",
   "id": "04df8756",
   "metadata": {},
   "source": [
    "## Extracting Data from a Table:"
   ]
  },
  {
   "cell_type": "markdown",
   "id": "d5810a60",
   "metadata": {},
   "source": [
    "If there is a table of data visible on a website, we can use Selenium to extract the data and load it into Python. Typically, if you view tables in HTML using Inspect, they are coded using the tags `tr` and `td`, which reference rows and columns within each row, respectively. You can also use square brackets `[]` and numeric indices to access specific rows and columns. \n",
    "\n",
    "However, it is important to note that unlike many programming languages like Python and C++, HTML numeric indices start at 1 rather than 0, so if you access the first row of a table, you will need to use 1 as the index rather than 0. Therefore, you can locate individual cells for each row in the table using the general XPath `//tr/td[n]` where `n` is the nth column of a given row.\n",
    "\n",
    "To pull data from the table in the website, we will first click the \"All Matches\" button to reduce the two tables to one. Next we will access the rows of the table by finding all elements with the tag name `tr` using the command `driver.find_elements(By.TAG_NAME, 'tr')`. \n",
    "\n",
    "Then we will create empty lists to load entries from the date, team, and record columns into. Finally, we will loop through the rows of data we scraped and add data entries from each row to the corresponding lists using the `match.find_element(By.XPATH, './td[n]').text` command where `./td[n]` is the nth column of the given row and the `.text` attribute accesses the text of each entry."
   ]
  },
  {
   "cell_type": "code",
   "execution_count": 29,
   "id": "4def6125",
   "metadata": {
    "scrolled": true
   },
   "outputs": [],
   "source": [
    "from selenium import webdriver\n",
    "from selenium.webdriver.common.by import By\n",
    "\n",
    "website = \"https://www.adamchoi.co.uk/teamgoals/detailed\" # insert link to website you are scraping\n",
    "path = \"/Users/tristan/chromedriver\" # insert path to ChromeDriver\n",
    "driver = webdriver.Chrome(path) # create webdriver\n",
    "driver.get(website) # opens ChromeDriver window\n",
    "\n",
    "all_matches_button = driver.find_element(By.XPATH, '//label[@analytics-event=\"All matches\"]') \n",
    "# locates a button in selenium\n",
    "\n",
    "all_matches_button.click() # clicks the button\n",
    "\n",
    "matches = driver.find_elements(By.TAG_NAME, 'tr') # make element plural to return list of tr elements\n",
    "\n",
    "date = [] # list to store date values in first column\n",
    "team = [] # list to store team values in second column\n",
    "score = [] # list to store score values in third column\n",
    "\n",
    "for match in matches:\n",
    "    # print(match.text) prints data row by row with all the data in a row stored in one variable\n",
    "    date.append(match.find_element(By.XPATH, './td[1]').text)\n",
    "    # add value from row in first column to date list\n",
    "    team.append(match.find_element(By.XPATH, './td[2]').text)\n",
    "    # add value from row in second column to team list\n",
    "    score.append(match.find_element(By.XPATH, './td[3]').text)\n",
    "    # add value from row in third column to score list\n",
    "    \n",
    "driver.quit() # closes ChromeDriver window"
   ]
  },
  {
   "cell_type": "markdown",
   "id": "dbffa83b",
   "metadata": {},
   "source": [
    "## Exporting Data to a CSV file with Pandas:"
   ]
  },
  {
   "cell_type": "markdown",
   "id": "2563ef15",
   "metadata": {},
   "source": [
    "If you have properly scraped your data, you should be able to read it into a Pandas DataFrame object and then a .csv file. For this example, we have read in three different lists of information: date, team, and record, which we will load into a Pandas DataFrame using the code below. There is also commented out code to read the DataFrame into a .csv file."
   ]
  },
  {
   "cell_type": "code",
   "execution_count": 30,
   "id": "f462fce1",
   "metadata": {},
   "outputs": [
    {
     "data": {
      "text/html": [
       "<div>\n",
       "<style scoped>\n",
       "    .dataframe tbody tr th:only-of-type {\n",
       "        vertical-align: middle;\n",
       "    }\n",
       "\n",
       "    .dataframe tbody tr th {\n",
       "        vertical-align: top;\n",
       "    }\n",
       "\n",
       "    .dataframe thead th {\n",
       "        text-align: right;\n",
       "    }\n",
       "</style>\n",
       "<table border=\"1\" class=\"dataframe\">\n",
       "  <thead>\n",
       "    <tr style=\"text-align: right;\">\n",
       "      <th></th>\n",
       "      <th>Date</th>\n",
       "      <th>Team</th>\n",
       "      <th>Record</th>\n",
       "    </tr>\n",
       "  </thead>\n",
       "  <tbody>\n",
       "    <tr>\n",
       "      <th>0</th>\n",
       "      <td>05-08-2022</td>\n",
       "      <td>Crystal Palace</td>\n",
       "      <td>0 - 2</td>\n",
       "    </tr>\n",
       "    <tr>\n",
       "      <th>1</th>\n",
       "      <td>13-08-2022</td>\n",
       "      <td>Arsenal</td>\n",
       "      <td>4 - 2</td>\n",
       "    </tr>\n",
       "    <tr>\n",
       "      <th>2</th>\n",
       "      <td>20-08-2022</td>\n",
       "      <td>Bournemouth</td>\n",
       "      <td>0 - 3</td>\n",
       "    </tr>\n",
       "    <tr>\n",
       "      <th>3</th>\n",
       "      <td>27-08-2022</td>\n",
       "      <td>Arsenal</td>\n",
       "      <td>2 - 1</td>\n",
       "    </tr>\n",
       "    <tr>\n",
       "      <th>4</th>\n",
       "      <td>31-08-2022</td>\n",
       "      <td>Arsenal</td>\n",
       "      <td>2 - 1</td>\n",
       "    </tr>\n",
       "  </tbody>\n",
       "</table>\n",
       "</div>"
      ],
      "text/plain": [
       "         Date            Team Record\n",
       "0  05-08-2022  Crystal Palace  0 - 2\n",
       "1  13-08-2022         Arsenal  4 - 2\n",
       "2  20-08-2022     Bournemouth  0 - 3\n",
       "3  27-08-2022         Arsenal  2 - 1\n",
       "4  31-08-2022         Arsenal  2 - 1"
      ]
     },
     "execution_count": 30,
     "metadata": {},
     "output_type": "execute_result"
    }
   ],
   "source": [
    "import pandas as pd\n",
    "\n",
    "# write csv\n",
    "df = pd.DataFrame({\"Date\":col1, \"Team\":col2, \"Record\":col3})\n",
    "# df.to_csv(“selenium_demo.csv”, index = False)\n",
    "df.head()"
   ]
  },
  {
   "cell_type": "markdown",
   "id": "2dd8b40a",
   "metadata": {},
   "source": [
    "##  Selecting Elements Within a Simple Dropdown Menu:\n",
    "\n"
   ]
  },
  {
   "cell_type": "markdown",
   "id": "16dd4558",
   "metadata": {},
   "source": [
    "For the final action of this tutorial, we will select a specific element from a simple dropdown menu. Let's say under the Country dropdown menu we want to select the option for \"Spain\" so we can see the game statistics for teams from Spain. \n",
    "\n",
    "First, we will import `Select` from the `selenium.webdriver.support.ui` module and create a Select object that references the dropdown menu by its ID, \"country\". Then, using the Select object which we title dropdown, we use the `.select_by_visible_text()` method to select the option of \"Spain\".\n",
    "\n",
    "Note how we also use the line `time.sleep(3)` in the code below, which tells Selenium to wait three seconds before performing the next action. Selenium sometimes gets overwhelmed when it has to perform multiple actions in succession, so using the `.sleep()` method from the `time` package, we can allow Selenium to pause in between actions which will help prevent errors."
   ]
  },
  {
   "cell_type": "code",
   "execution_count": 31,
   "id": "fc493984",
   "metadata": {},
   "outputs": [],
   "source": [
    "from selenium import webdriver\n",
    "from selenium.webdriver.support.ui import Select\n",
    "from selenium.webdriver.common.by import By\n",
    "import pandas as pd\n",
    "import time\n",
    "\n",
    "website = \"https://www.adamchoi.co.uk/teamgoals/detailed\" # insert link to website you are scraping\n",
    "path = \"/Users/tristan/chromedriver\" # insert path to ChromeDriver\n",
    "driver = webdriver.Chrome(path) # create webdriver\n",
    "driver.get(website) # opens ChromeDriver window\n",
    "\n",
    "all_matches_button = driver.find_element(By.XPATH, '//label[@analytics-event=\"All matches\"]') \n",
    "# locates a button in selenium\n",
    "\n",
    "all_matches_button.click() # clicks the button\n",
    "\n",
    "time.sleep(3) # stops action for 3 seconds to prevent errors\n",
    "\n",
    "dropdown = Select(driver.find_element(By.ID, 'country'))\n",
    "# creates Select object for dropdown menu\n",
    "dropdown.select_by_visible_text('Spain')\n",
    "# selects value from dropdown menu\n",
    "\n",
    "driver.quit() # closes ChromeDriver window"
   ]
  },
  {
   "cell_type": "markdown",
   "id": "3a364f9c",
   "metadata": {},
   "source": [
    "If everything works, in the ChromeDriver window, the \"All matches\" button will be clicked as before, then Selenium will wait about 3 seconds and finally select the option for \"Spain\" under the dropdown menu for country."
   ]
  },
  {
   "cell_type": "markdown",
   "id": "afcedd56",
   "metadata": {},
   "source": [
    "## Conclusion"
   ]
  },
  {
   "cell_type": "markdown",
   "id": "e9173122",
   "metadata": {},
   "source": [
    "This tutorial is by no means a comprehensive guide to Selenium, as there are other actions you can perform that aren't covered here such as putting entries into search bars, filling out forms, and scraping images, but it should give a general overview of how to set it up as well as some of the basic functionalities of the package such as clicking buttons, selecting options from dropdown menus, and pulling data from tables. We use a dynamic website in this tutorial to highlight the capabilities of Selenium, which are best applied to an interactive website.\n",
    "\n",
    "One important note to remember about Selenium is that it is primarily used for website testing and automation rather than web scraping. Because of this, it may not be an ideal choice for every web scraping scenario, mainly due to its slower speed compared to other web scraping packages. Still, with a little background knowledge of HTML code, Selenium presents a good and precise option to scrape a variety of websites."
   ]
  },
  {
   "cell_type": "markdown",
   "id": "9ef78646",
   "metadata": {},
   "source": [
    "## References"
   ]
  },
  {
   "cell_type": "markdown",
   "id": "a8c783fb",
   "metadata": {},
   "source": [
    "\n",
    "- https://www.youtube.com/watch?v=UOsRrxMKJYk&ab_channel=ThePyCoach\n",
    "- https://selenium-python.readthedocs.io/\n",
    "- https://www.scrapingbee.com/blog/selenium-python/\n",
    "- https://towardsdatascience.com/how-to-use-selenium-to-web-scrape-with-example-80f9b23a843a"
   ]
  }
 ],
 "metadata": {
  "kernelspec": {
   "display_name": "Python 3",
   "language": "python",
   "name": "python3"
  },
  "language_info": {
   "codemirror_mode": {
    "name": "ipython",
    "version": 3
   },
   "file_extension": ".py",
   "mimetype": "text/x-python",
   "name": "python",
   "nbconvert_exporter": "python",
   "pygments_lexer": "ipython3",
   "version": "3.8.8"
  }
 },
 "nbformat": 4,
 "nbformat_minor": 5
}
